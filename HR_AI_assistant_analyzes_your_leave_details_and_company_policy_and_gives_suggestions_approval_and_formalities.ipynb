{
  "nbformat": 4,
  "nbformat_minor": 0,
  "metadata": {
    "colab": {
      "provenance": [],
      "mount_file_id": "1Gu_EX-sfvBGbeI8RPm-SKVsNUtFr8Ub_",
      "authorship_tag": "ABX9TyO0TZznBXikZzfvNrI5fEtj",
      "include_colab_link": true
    },
    "kernelspec": {
      "name": "python3",
      "display_name": "Python 3"
    },
    "language_info": {
      "name": "python"
    }
  },
  "cells": [
    {
      "cell_type": "markdown",
      "metadata": {
        "id": "view-in-github",
        "colab_type": "text"
      },
      "source": [
        "<a href=\"https://colab.research.google.com/github/Tamilselvan0101/HR_AI_assistant_analyzes_your_leave_details_and_company_policy_and_gives_suggestions_approval/blob/main/HR_AI_assistant_analyzes_your_leave_details_and_company_policy_and_gives_suggestions_approval_and_formalities.ipynb\" target=\"_parent\"><img src=\"https://colab.research.google.com/assets/colab-badge.svg\" alt=\"Open In Colab\"/></a>"
      ]
    },
    {
      "cell_type": "code",
      "execution_count": null,
      "metadata": {
        "colab": {
          "base_uri": "https://localhost:8080/"
        },
        "id": "x_Z_XpMxwlCD",
        "outputId": "186b70ed-955d-4134-97ff-2a8a52d21c1e"
      },
      "outputs": [
        {
          "output_type": "stream",
          "name": "stdout",
          "text": [
            "Requirement already satisfied: google-cloud-bigquery in /usr/local/lib/python3.10/dist-packages (3.12.0)\n",
            "Requirement already satisfied: grpcio<2.0dev,>=1.47.0 in /usr/local/lib/python3.10/dist-packages (from google-cloud-bigquery) (1.60.1)\n",
            "Requirement already satisfied: google-api-core[grpc]!=2.0.*,!=2.1.*,!=2.2.*,!=2.3.0,<3.0.0dev,>=1.31.5 in /usr/local/lib/python3.10/dist-packages (from google-cloud-bigquery) (2.11.1)\n",
            "Requirement already satisfied: proto-plus<2.0.0dev,>=1.15.0 in /usr/local/lib/python3.10/dist-packages (from google-cloud-bigquery) (1.23.0)\n",
            "Requirement already satisfied: google-cloud-core<3.0.0dev,>=1.6.0 in /usr/local/lib/python3.10/dist-packages (from google-cloud-bigquery) (2.3.3)\n",
            "Requirement already satisfied: google-resumable-media<3.0dev,>=0.6.0 in /usr/local/lib/python3.10/dist-packages (from google-cloud-bigquery) (2.7.0)\n",
            "Requirement already satisfied: packaging>=20.0.0 in /usr/local/lib/python3.10/dist-packages (from google-cloud-bigquery) (23.2)\n",
            "Requirement already satisfied: protobuf!=3.20.0,!=3.20.1,!=4.21.0,!=4.21.1,!=4.21.2,!=4.21.3,!=4.21.4,!=4.21.5,<5.0.0dev,>=3.19.5 in /usr/local/lib/python3.10/dist-packages (from google-cloud-bigquery) (3.20.3)\n",
            "Requirement already satisfied: python-dateutil<3.0dev,>=2.7.2 in /usr/local/lib/python3.10/dist-packages (from google-cloud-bigquery) (2.8.2)\n",
            "Requirement already satisfied: requests<3.0.0dev,>=2.21.0 in /usr/local/lib/python3.10/dist-packages (from google-cloud-bigquery) (2.31.0)\n",
            "Requirement already satisfied: googleapis-common-protos<2.0.dev0,>=1.56.2 in /usr/local/lib/python3.10/dist-packages (from google-api-core[grpc]!=2.0.*,!=2.1.*,!=2.2.*,!=2.3.0,<3.0.0dev,>=1.31.5->google-cloud-bigquery) (1.62.0)\n",
            "Requirement already satisfied: google-auth<3.0.dev0,>=2.14.1 in /usr/local/lib/python3.10/dist-packages (from google-api-core[grpc]!=2.0.*,!=2.1.*,!=2.2.*,!=2.3.0,<3.0.0dev,>=1.31.5->google-cloud-bigquery) (2.27.0)\n",
            "Requirement already satisfied: grpcio-status<2.0.dev0,>=1.33.2 in /usr/local/lib/python3.10/dist-packages (from google-api-core[grpc]!=2.0.*,!=2.1.*,!=2.2.*,!=2.3.0,<3.0.0dev,>=1.31.5->google-cloud-bigquery) (1.48.2)\n",
            "Requirement already satisfied: google-crc32c<2.0dev,>=1.0 in /usr/local/lib/python3.10/dist-packages (from google-resumable-media<3.0dev,>=0.6.0->google-cloud-bigquery) (1.5.0)\n",
            "Requirement already satisfied: six>=1.5 in /usr/local/lib/python3.10/dist-packages (from python-dateutil<3.0dev,>=2.7.2->google-cloud-bigquery) (1.16.0)\n",
            "Requirement already satisfied: charset-normalizer<4,>=2 in /usr/local/lib/python3.10/dist-packages (from requests<3.0.0dev,>=2.21.0->google-cloud-bigquery) (3.3.2)\n",
            "Requirement already satisfied: idna<4,>=2.5 in /usr/local/lib/python3.10/dist-packages (from requests<3.0.0dev,>=2.21.0->google-cloud-bigquery) (3.6)\n",
            "Requirement already satisfied: urllib3<3,>=1.21.1 in /usr/local/lib/python3.10/dist-packages (from requests<3.0.0dev,>=2.21.0->google-cloud-bigquery) (2.0.7)\n",
            "Requirement already satisfied: certifi>=2017.4.17 in /usr/local/lib/python3.10/dist-packages (from requests<3.0.0dev,>=2.21.0->google-cloud-bigquery) (2024.2.2)\n",
            "Requirement already satisfied: cachetools<6.0,>=2.0.0 in /usr/local/lib/python3.10/dist-packages (from google-auth<3.0.dev0,>=2.14.1->google-api-core[grpc]!=2.0.*,!=2.1.*,!=2.2.*,!=2.3.0,<3.0.0dev,>=1.31.5->google-cloud-bigquery) (5.3.2)\n",
            "Requirement already satisfied: pyasn1-modules>=0.2.1 in /usr/local/lib/python3.10/dist-packages (from google-auth<3.0.dev0,>=2.14.1->google-api-core[grpc]!=2.0.*,!=2.1.*,!=2.2.*,!=2.3.0,<3.0.0dev,>=1.31.5->google-cloud-bigquery) (0.3.0)\n",
            "Requirement already satisfied: rsa<5,>=3.1.4 in /usr/local/lib/python3.10/dist-packages (from google-auth<3.0.dev0,>=2.14.1->google-api-core[grpc]!=2.0.*,!=2.1.*,!=2.2.*,!=2.3.0,<3.0.0dev,>=1.31.5->google-cloud-bigquery) (4.9)\n",
            "Requirement already satisfied: pyasn1<0.6.0,>=0.4.6 in /usr/local/lib/python3.10/dist-packages (from pyasn1-modules>=0.2.1->google-auth<3.0.dev0,>=2.14.1->google-api-core[grpc]!=2.0.*,!=2.1.*,!=2.2.*,!=2.3.0,<3.0.0dev,>=1.31.5->google-cloud-bigquery) (0.5.1)\n",
            "Requirement already satisfied: langchain in /usr/local/lib/python3.10/dist-packages (0.1.9)\n",
            "Requirement already satisfied: PyYAML>=5.3 in /usr/local/lib/python3.10/dist-packages (from langchain) (6.0.1)\n",
            "Requirement already satisfied: SQLAlchemy<3,>=1.4 in /usr/local/lib/python3.10/dist-packages (from langchain) (2.0.27)\n",
            "Requirement already satisfied: aiohttp<4.0.0,>=3.8.3 in /usr/local/lib/python3.10/dist-packages (from langchain) (3.9.3)\n",
            "Requirement already satisfied: async-timeout<5.0.0,>=4.0.0 in /usr/local/lib/python3.10/dist-packages (from langchain) (4.0.3)\n",
            "Requirement already satisfied: dataclasses-json<0.7,>=0.5.7 in /usr/local/lib/python3.10/dist-packages (from langchain) (0.6.4)\n",
            "Requirement already satisfied: jsonpatch<2.0,>=1.33 in /usr/local/lib/python3.10/dist-packages (from langchain) (1.33)\n",
            "Requirement already satisfied: langchain-community<0.1,>=0.0.21 in /usr/local/lib/python3.10/dist-packages (from langchain) (0.0.24)\n",
            "Requirement already satisfied: langchain-core<0.2,>=0.1.26 in /usr/local/lib/python3.10/dist-packages (from langchain) (0.1.26)\n",
            "Requirement already satisfied: langsmith<0.2.0,>=0.1.0 in /usr/local/lib/python3.10/dist-packages (from langchain) (0.1.8)\n",
            "Requirement already satisfied: numpy<2,>=1 in /usr/local/lib/python3.10/dist-packages (from langchain) (1.25.2)\n",
            "Requirement already satisfied: pydantic<3,>=1 in /usr/local/lib/python3.10/dist-packages (from langchain) (2.6.1)\n",
            "Requirement already satisfied: requests<3,>=2 in /usr/local/lib/python3.10/dist-packages (from langchain) (2.31.0)\n",
            "Requirement already satisfied: tenacity<9.0.0,>=8.1.0 in /usr/local/lib/python3.10/dist-packages (from langchain) (8.2.3)\n",
            "Requirement already satisfied: aiosignal>=1.1.2 in /usr/local/lib/python3.10/dist-packages (from aiohttp<4.0.0,>=3.8.3->langchain) (1.3.1)\n",
            "Requirement already satisfied: attrs>=17.3.0 in /usr/local/lib/python3.10/dist-packages (from aiohttp<4.0.0,>=3.8.3->langchain) (23.2.0)\n",
            "Requirement already satisfied: frozenlist>=1.1.1 in /usr/local/lib/python3.10/dist-packages (from aiohttp<4.0.0,>=3.8.3->langchain) (1.4.1)\n",
            "Requirement already satisfied: multidict<7.0,>=4.5 in /usr/local/lib/python3.10/dist-packages (from aiohttp<4.0.0,>=3.8.3->langchain) (6.0.5)\n",
            "Requirement already satisfied: yarl<2.0,>=1.0 in /usr/local/lib/python3.10/dist-packages (from aiohttp<4.0.0,>=3.8.3->langchain) (1.9.4)\n",
            "Requirement already satisfied: marshmallow<4.0.0,>=3.18.0 in /usr/local/lib/python3.10/dist-packages (from dataclasses-json<0.7,>=0.5.7->langchain) (3.20.2)\n",
            "Requirement already satisfied: typing-inspect<1,>=0.4.0 in /usr/local/lib/python3.10/dist-packages (from dataclasses-json<0.7,>=0.5.7->langchain) (0.9.0)\n",
            "Requirement already satisfied: jsonpointer>=1.9 in /usr/local/lib/python3.10/dist-packages (from jsonpatch<2.0,>=1.33->langchain) (2.4)\n",
            "Requirement already satisfied: anyio<5,>=3 in /usr/local/lib/python3.10/dist-packages (from langchain-core<0.2,>=0.1.26->langchain) (3.7.1)\n",
            "Requirement already satisfied: packaging<24.0,>=23.2 in /usr/local/lib/python3.10/dist-packages (from langchain-core<0.2,>=0.1.26->langchain) (23.2)\n",
            "Requirement already satisfied: orjson<4.0.0,>=3.9.14 in /usr/local/lib/python3.10/dist-packages (from langsmith<0.2.0,>=0.1.0->langchain) (3.9.15)\n",
            "Requirement already satisfied: annotated-types>=0.4.0 in /usr/local/lib/python3.10/dist-packages (from pydantic<3,>=1->langchain) (0.6.0)\n",
            "Requirement already satisfied: pydantic-core==2.16.2 in /usr/local/lib/python3.10/dist-packages (from pydantic<3,>=1->langchain) (2.16.2)\n",
            "Requirement already satisfied: typing-extensions>=4.6.1 in /usr/local/lib/python3.10/dist-packages (from pydantic<3,>=1->langchain) (4.9.0)\n",
            "Requirement already satisfied: charset-normalizer<4,>=2 in /usr/local/lib/python3.10/dist-packages (from requests<3,>=2->langchain) (3.3.2)\n",
            "Requirement already satisfied: idna<4,>=2.5 in /usr/local/lib/python3.10/dist-packages (from requests<3,>=2->langchain) (3.6)\n",
            "Requirement already satisfied: urllib3<3,>=1.21.1 in /usr/local/lib/python3.10/dist-packages (from requests<3,>=2->langchain) (2.0.7)\n",
            "Requirement already satisfied: certifi>=2017.4.17 in /usr/local/lib/python3.10/dist-packages (from requests<3,>=2->langchain) (2024.2.2)\n",
            "Requirement already satisfied: greenlet!=0.4.17 in /usr/local/lib/python3.10/dist-packages (from SQLAlchemy<3,>=1.4->langchain) (3.0.3)\n",
            "Requirement already satisfied: sniffio>=1.1 in /usr/local/lib/python3.10/dist-packages (from anyio<5,>=3->langchain-core<0.2,>=0.1.26->langchain) (1.3.0)\n",
            "Requirement already satisfied: exceptiongroup in /usr/local/lib/python3.10/dist-packages (from anyio<5,>=3->langchain-core<0.2,>=0.1.26->langchain) (1.2.0)\n",
            "Requirement already satisfied: mypy-extensions>=0.3.0 in /usr/local/lib/python3.10/dist-packages (from typing-inspect<1,>=0.4.0->dataclasses-json<0.7,>=0.5.7->langchain) (1.0.0)\n",
            "Requirement already satisfied: openai in /usr/local/lib/python3.10/dist-packages (1.12.0)\n",
            "Requirement already satisfied: anyio<5,>=3.5.0 in /usr/local/lib/python3.10/dist-packages (from openai) (3.7.1)\n",
            "Requirement already satisfied: distro<2,>=1.7.0 in /usr/lib/python3/dist-packages (from openai) (1.7.0)\n",
            "Requirement already satisfied: httpx<1,>=0.23.0 in /usr/local/lib/python3.10/dist-packages (from openai) (0.27.0)\n",
            "Requirement already satisfied: pydantic<3,>=1.9.0 in /usr/local/lib/python3.10/dist-packages (from openai) (2.6.1)\n",
            "Requirement already satisfied: sniffio in /usr/local/lib/python3.10/dist-packages (from openai) (1.3.0)\n",
            "Requirement already satisfied: tqdm>4 in /usr/local/lib/python3.10/dist-packages (from openai) (4.66.2)\n",
            "Requirement already satisfied: typing-extensions<5,>=4.7 in /usr/local/lib/python3.10/dist-packages (from openai) (4.9.0)\n",
            "Requirement already satisfied: idna>=2.8 in /usr/local/lib/python3.10/dist-packages (from anyio<5,>=3.5.0->openai) (3.6)\n",
            "Requirement already satisfied: exceptiongroup in /usr/local/lib/python3.10/dist-packages (from anyio<5,>=3.5.0->openai) (1.2.0)\n",
            "Requirement already satisfied: certifi in /usr/local/lib/python3.10/dist-packages (from httpx<1,>=0.23.0->openai) (2024.2.2)\n",
            "Requirement already satisfied: httpcore==1.* in /usr/local/lib/python3.10/dist-packages (from httpx<1,>=0.23.0->openai) (1.0.4)\n",
            "Requirement already satisfied: h11<0.15,>=0.13 in /usr/local/lib/python3.10/dist-packages (from httpcore==1.*->httpx<1,>=0.23.0->openai) (0.14.0)\n",
            "Requirement already satisfied: annotated-types>=0.4.0 in /usr/local/lib/python3.10/dist-packages (from pydantic<3,>=1.9.0->openai) (0.6.0)\n",
            "Requirement already satisfied: pydantic-core==2.16.2 in /usr/local/lib/python3.10/dist-packages (from pydantic<3,>=1.9.0->openai) (2.16.2)\n",
            "Requirement already satisfied: PyPDF2 in /usr/local/lib/python3.10/dist-packages (3.0.1)\n",
            "Requirement already satisfied: faiss-cpu in /usr/local/lib/python3.10/dist-packages (1.7.4)\n",
            "Requirement already satisfied: tiktoken in /usr/local/lib/python3.10/dist-packages (0.6.0)\n",
            "Requirement already satisfied: regex>=2022.1.18 in /usr/local/lib/python3.10/dist-packages (from tiktoken) (2023.12.25)\n",
            "Requirement already satisfied: requests>=2.26.0 in /usr/local/lib/python3.10/dist-packages (from tiktoken) (2.31.0)\n",
            "Requirement already satisfied: charset-normalizer<4,>=2 in /usr/local/lib/python3.10/dist-packages (from requests>=2.26.0->tiktoken) (3.3.2)\n",
            "Requirement already satisfied: idna<4,>=2.5 in /usr/local/lib/python3.10/dist-packages (from requests>=2.26.0->tiktoken) (3.6)\n",
            "Requirement already satisfied: urllib3<3,>=1.21.1 in /usr/local/lib/python3.10/dist-packages (from requests>=2.26.0->tiktoken) (2.0.7)\n",
            "Requirement already satisfied: certifi>=2017.4.17 in /usr/local/lib/python3.10/dist-packages (from requests>=2.26.0->tiktoken) (2024.2.2)\n"
          ]
        }
      ],
      "source": [
        "!pip install google-cloud-bigquery\n",
        "!pip install langchain\n",
        "!pip install openai\n",
        "!pip install PyPDF2\n",
        "!pip install faiss-cpu\n",
        "!pip install tiktoken"
      ]
    },
    {
      "cell_type": "code",
      "source": [
        "from google.colab import drive\n",
        "drive.mount('/content/drive')\n"
      ],
      "metadata": {
        "colab": {
          "base_uri": "https://localhost:8080/"
        },
        "id": "dCFQkJzZqsUh",
        "outputId": "506b0f02-41e2-4f64-dd3b-4f930c2e5480"
      },
      "execution_count": null,
      "outputs": [
        {
          "output_type": "stream",
          "name": "stdout",
          "text": [
            "Drive already mounted at /content/drive; to attempt to forcibly remount, call drive.mount(\"/content/drive\", force_remount=True).\n"
          ]
        }
      ]
    },
    {
      "cell_type": "code",
      "source": [
        "path1= [\"/content/drive/MyDrive/github_projects/fake_face_book hr policy.pdf\"]\n",
        "path2= \"/content/drive/MyDrive/github_projects/pizza-412109-78beb3072fb9.json\""
      ],
      "metadata": {
        "id": "gtO4Gfs2yrlY"
      },
      "execution_count": null,
      "outputs": []
    },
    {
      "cell_type": "markdown",
      "source": [
        "## **Enter your api key 👇**"
      ],
      "metadata": {
        "id": "2qXpU0huUe5b"
      }
    },
    {
      "cell_type": "code",
      "source": [
        "#pls enter your API key HERE\n",
        "APIKEY="
      ],
      "metadata": {
        "id": "ho52soB4T-WF"
      },
      "execution_count": null,
      "outputs": []
    },
    {
      "cell_type": "code",
      "source": [
        "#from re import template\n",
        "from PyPDF2 import PdfReader\n",
        "from langchain.embeddings.openai import OpenAIEmbeddings\n",
        "from langchain.text_splitter import CharacterTextSplitter\n",
        "from langchain.vectorstores import FAISS\n",
        "\n",
        "employee_id=input(\"enter employee id: \")\n",
        "querry= input(\" enter your query : \")\n",
        "\n",
        "\n",
        "#extratct pdf text\n",
        "conts=path1\n",
        "paragraph =\" \"\n",
        "for path in conts:\n",
        "  pdreader = PdfReader(path)\n",
        "  for i, page in enumerate(pdreader.pages):\n",
        "    content = page.extract_text()\n",
        "    if content:\n",
        "        paragraph += content\n",
        "\n",
        "text_splitter = CharacterTextSplitter(separator = \"\\n\",chunk_size = 1200,chunk_overlap  = 200,length_function = len)\n",
        "texts = text_splitter.split_text(paragraph)\n",
        "\n",
        "embeddings = OpenAIEmbeddings(openai_api_key=APIKEY)\n",
        "storage = FAISS.from_texts(texts, embeddings)\n",
        "\n",
        "from langchain.chains.question_answering import load_qa_chain\n",
        "from langchain.llms import OpenAI\n",
        "chain = load_qa_chain(OpenAI(openai_api_key=APIKEY), chain_type=\"stuff\")\n",
        "\n",
        "\n",
        "from google.cloud import bigquery\n",
        "from google.oauth2 import service_account\n",
        "\n",
        "#key_path= \"/content/hrproject-412815-6f13d1aeb8b5.json\"\n",
        "#project_id=\"hrproject-412815\"\n",
        "\n",
        "key_path = path2\n",
        "project_id = \"pizza-412109\"\n",
        "\n",
        "\n",
        "#bigquery\n",
        "def client_query(key_path,project_id,query):\n",
        "    credentials = service_account.Credentials.from_service_account_file(\n",
        "        key_path, scopes=[\"https://www.googleapis.com/auth/cloud-platform\"],\n",
        "        )\n",
        "\n",
        "    client = bigquery.Client(credentials=credentials, project=project_id)\n",
        "    query_job = client.query(query)  # Make an API request.\n",
        "    data=query_job.to_dataframe()\n",
        "    #print(\"The query data:\")\n",
        "    return(data)\n",
        "    \"\"\"\n",
        "    for row in query_job:\n",
        "        # Row values can be accessed by field name or index.\n",
        "        print(\"name={}, count={}\".format(row[0], row[\"total_people\"])) \"\"\"\n",
        "\n",
        "\n",
        "fetch_query='''(SELECT * FROM `pizza-412109.pizza123.emp_rem_leave` where employee_id= '{}')'''.format(employee_id)\n",
        "\n",
        "fetch= client_query(key_path,project_id,query=fetch_query)\n",
        "\n",
        "list_of_lists = fetch.values.tolist()\n",
        "\n",
        "print(list_of_lists)\n",
        "nam= list_of_lists [0][2]\n",
        "mail= list_of_lists[0][1]\n",
        "emplid= list_of_lists[0][0]\n",
        "pl_cl= list_of_lists[0][3]\n",
        "sl= list_of_lists[0][4]\n",
        "maternity= list_of_lists[0][5]\n",
        "comp_off= list_of_lists[0][6]\n",
        "carry_forward= list_of_lists[0][7]\n",
        "lop= list_of_lists[0][8]\n",
        "wfh=list_of_lists[0][9]\n",
        "\n",
        "#print(\"value is \")\n",
        "#print(pl_cl)\n",
        "\n",
        "\n",
        "template= (\"i am a employe my name is {} my employee id {} my mail id is {} i have {} pl_cl remaining , {} sick leave remaining , {} maternity leave remaining , {} cam_off remaining , {} leaves carry_forward,{} lop remaining  ,{} wfh  remaining\").format( nam,mail,emplid,pl_cl,sl,maternity,comp_off,carry_forward,lop, wfh )\n",
        "#print(template)\n",
        "\n",
        "\n",
        "#simalirity search\n",
        "def search1(query):\n",
        "    docs = storage.similarity_search(query)\n",
        "    tas=chain.run(input_documents=docs, question=query)\n",
        "    #result_label.config(text=f\"{tas}\")\n",
        "    return(tas)\n",
        "search_reasult=search1(query=querry)\n",
        "\n",
        "#print(search_reasult)\n",
        "\n",
        "\n",
        "#finetuning\n",
        "from langchain.llms import OpenAI\n",
        "from langchain.chains import LLMChain\n",
        "from langchain.chat_models import ChatOpenAI\n",
        "\n",
        "llm = ChatOpenAI(openai_api_key=APIKEY)\n",
        "from langchain.prompts import (ChatPromptTemplate,HumanMessagePromptTemplate,\n",
        "MessagesPlaceholder,SystemMessagePromptTemplate)\n",
        "tass=\"\"\n",
        "\n",
        "infom=(\"You are a nice hr  you will give suggestions and steps by referring the company policy, the compny policy is {} and this information about my self {}  \").format(search_reasult,template)\n",
        "\n",
        "prompt = ChatPromptTemplate(messages=[\n",
        "    SystemMessagePromptTemplate.from_template(infom),\n",
        "    MessagesPlaceholder(variable_name=\"chat_history\"),\n",
        "    HumanMessagePromptTemplate.from_template(\"{question}\")])\n",
        "from langchain.memory import ConversationBufferMemory\n",
        "memory = ConversationBufferMemory(memory_key=\"chat_history\", return_messages=True)\n",
        "conversation = LLMChain(llm=llm, prompt=prompt, verbose=True, memory=memory)\n",
        "\n",
        "def search():\n",
        "    query =querry\n",
        "    #docs = storage.similarity_search(query)\n",
        "    tapp = conversation({\"question\": query})\n",
        "    \"\"\"docs[0].page_content += tapp['text']\n",
        "    tass = chain.run(input_documents=docs, question=query)\n",
        "    print(tapp)\n",
        "    \"\"\"\n",
        "    #print(tapp)\n",
        "    tass= tapp.get('text')\n",
        "    print(tass)\n",
        "\n",
        "\n",
        "search()\n",
        "\n",
        "# pls use X/CH/866 for employee id or check the bigquery\n"
      ],
      "metadata": {
        "colab": {
          "base_uri": "https://localhost:8080/"
        },
        "id": "8BaqqJ7owmWQ",
        "outputId": "326154d8-5414-42aa-f5dd-23dc983d7b55"
      },
      "execution_count": null,
      "outputs": [
        {
          "name": "stdout",
          "output_type": "stream",
          "text": [
            "enter employee id: X/CH/866\n",
            " enter your query : am i eligeble for maternity leave\n"
          ]
        },
        {
          "output_type": "stream",
          "name": "stderr",
          "text": [
            "WARNING:langchain.text_splitter:Created a chunk of size 3683, which is longer than the specified 1200\n",
            "WARNING:langchain.text_splitter:Created a chunk of size 1601, which is longer than the specified 1200\n",
            "WARNING:langchain.text_splitter:Created a chunk of size 2255, which is longer than the specified 1200\n",
            "WARNING:langchain.text_splitter:Created a chunk of size 1397, which is longer than the specified 1200\n",
            "WARNING:langchain.text_splitter:Created a chunk of size 2498, which is longer than the specified 1200\n",
            "WARNING:langchain.text_splitter:Created a chunk of size 2505, which is longer than the specified 1200\n",
            "WARNING:langchain.text_splitter:Created a chunk of size 2037, which is longer than the specified 1200\n",
            "WARNING:langchain.text_splitter:Created a chunk of size 2962, which is longer than the specified 1200\n",
            "WARNING:langchain.text_splitter:Created a chunk of size 2271, which is longer than the specified 1200\n",
            "WARNING:langchain.text_splitter:Created a chunk of size 1682, which is longer than the specified 1200\n",
            "WARNING:langchain.text_splitter:Created a chunk of size 1741, which is longer than the specified 1200\n",
            "WARNING:langchain.text_splitter:Created a chunk of size 2295, which is longer than the specified 1200\n",
            "WARNING:langchain.text_splitter:Created a chunk of size 1628, which is longer than the specified 1200\n",
            "WARNING:langchain.text_splitter:Created a chunk of size 1783, which is longer than the specified 1200\n",
            "WARNING:langchain.text_splitter:Created a chunk of size 1908, which is longer than the specified 1200\n",
            "WARNING:langchain.text_splitter:Created a chunk of size 3054, which is longer than the specified 1200\n",
            "WARNING:langchain.text_splitter:Created a chunk of size 3161, which is longer than the specified 1200\n",
            "WARNING:langchain.text_splitter:Created a chunk of size 1392, which is longer than the specified 1200\n",
            "WARNING:langchain.text_splitter:Created a chunk of size 3796, which is longer than the specified 1200\n",
            "WARNING:langchain.text_splitter:Created a chunk of size 2249, which is longer than the specified 1200\n"
          ]
        },
        {
          "output_type": "stream",
          "name": "stdout",
          "text": [
            "[['X/CH/866', 'gangadhar', 'gangadhar@omail.com', 3, 12, 0, 2, 0, 0, 0]]\n",
            "i am a employe my name is gangadhar@omail.com my employee id gangadhar my mail id is X/CH/866 i have 3 pl_cl remaining , 12 sick leave remaining , 0 maternity leave remaining , 2 cam_off remaining , 0 leaves carry_forward,0 lop remaining  ,0 wfh  remaining\n",
            " Based on the information provided, it appears that you may be eligible for maternity leave if you are a female employee with less than two surviving children and have completed at least 80 days of working days from the date of joining. However, it is best to confirm with your HR Manager and supervisor and provide them with the necessary documentation, such as an approved Medical Practitioner's report confirming your pregnancy and estimated delivery date, to officially request and be approved for maternity leave.\n",
            "\n",
            "\n",
            "\u001b[1m> Entering new LLMChain chain...\u001b[0m\n",
            "Prompt after formatting:\n",
            "\u001b[32;1m\u001b[1;3mSystem: You are a nice hr  you will give suggestions and steps by referring the company policy, the compny policy is  Based on the information provided, it appears that you may be eligible for maternity leave if you are a female employee with less than two surviving children and have completed at least 80 days of working days from the date of joining. However, it is best to confirm with your HR Manager and supervisor and provide them with the necessary documentation, such as an approved Medical Practitioner's report confirming your pregnancy and estimated delivery date, to officially request and be approved for maternity leave. and this information about my self i am a employe my name is gangadhar@omail.com my employee id gangadhar my mail id is X/CH/866 i have 3 pl_cl remaining , 12 sick leave remaining , 0 maternity leave remaining , 2 cam_off remaining , 0 leaves carry_forward,0 lop remaining  ,0 wfh  remaining  \n",
            "Human: am i eligeble for maternity leave\u001b[0m\n",
            "\n",
            "\u001b[1m> Finished chain.\u001b[0m\n",
            "Based on the company policy provided, it appears that you may be eligible for maternity leave if you are a female employee with less than two surviving children and have completed at least 80 days of working days from the date of joining. To officially request and be approved for maternity leave, you will need to confirm with your HR Manager and supervisor and provide them with the necessary documentation, such as an approved Medical Practitioner's report confirming your pregnancy and estimated delivery date.\n",
            "\n",
            "It is advisable to reach out to your HR Manager or supervisor, provide them with the required documentation, and discuss your eligibility and the process for applying for maternity leave. If you have any further questions or need assistance with the process, feel free to ask for guidance from your HR department.\n"
          ]
        }
      ]
    },
    {
      "cell_type": "code",
      "source": [],
      "metadata": {
        "id": "pbv3eJN7t5rq"
      },
      "execution_count": null,
      "outputs": []
    }
  ]
}